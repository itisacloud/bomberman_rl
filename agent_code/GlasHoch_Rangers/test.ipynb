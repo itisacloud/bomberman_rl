{
 "cells": [
  {
   "cell_type": "code",
   "execution_count": 1,
   "id": "initial_id",
   "metadata": {
    "collapsed": true,
    "ExecuteTime": {
     "end_time": "2023-08-29T09:05:09.005891756Z",
     "start_time": "2023-08-29T09:05:07.913019207Z"
    }
   },
   "outputs": [],
   "source": [
    "from src.BomberNet import DQNetwork, Agent\n"
   ]
  },
  {
   "cell_type": "code",
   "execution_count": 2,
   "outputs": [],
   "source": [
    "import torch"
   ],
   "metadata": {
    "collapsed": false,
    "ExecuteTime": {
     "end_time": "2023-08-29T09:05:09.006362629Z",
     "start_time": "2023-08-29T09:05:09.005664180Z"
    }
   },
   "id": "9e598f52396e8396"
  },
  {
   "cell_type": "code",
   "execution_count": 3,
   "outputs": [],
   "source": [
    "net = DQNetwork((3,3,3))"
   ],
   "metadata": {
    "collapsed": false,
    "ExecuteTime": {
     "end_time": "2023-08-29T09:05:09.044436290Z",
     "start_time": "2023-08-29T09:05:09.006164255Z"
    }
   },
   "id": "721f8c178fb81a55"
  },
  {
   "cell_type": "code",
   "execution_count": 5,
   "outputs": [],
   "source": [
    "net = net.to('cpu')\n"
   ],
   "metadata": {
    "collapsed": false,
    "ExecuteTime": {
     "end_time": "2023-08-29T09:05:20.872762749Z",
     "start_time": "2023-08-29T09:05:20.852663312Z"
    }
   },
   "id": "36a0c4c5f0c41570"
  },
  {
   "cell_type": "code",
   "execution_count": 6,
   "outputs": [
    {
     "data": {
      "text/plain": "DQNetwork(\n  (online): Sequential(\n    (0): Conv2d(3, 32, kernel_size=(8, 8), stride=(4, 4))\n    (1): ReLU()\n    (2): Conv2d(32, 64, kernel_size=(4, 4), stride=(2, 2))\n    (3): ReLU()\n    (4): Conv2d(64, 64, kernel_size=(3, 3), stride=(1, 1))\n    (5): ReLU()\n    (6): Flatten(start_dim=1, end_dim=-1)\n    (7): Linear(in_features=3136, out_features=512, bias=True)\n    (8): ReLU()\n    (9): Linear(in_features=512, out_features=6, bias=True)\n  )\n  (target): Sequential(\n    (0): Conv2d(3, 32, kernel_size=(8, 8), stride=(4, 4))\n    (1): ReLU()\n    (2): Conv2d(32, 64, kernel_size=(4, 4), stride=(2, 2))\n    (3): ReLU()\n    (4): Conv2d(64, 64, kernel_size=(3, 3), stride=(1, 1))\n    (5): ReLU()\n    (6): Flatten(start_dim=1, end_dim=-1)\n    (7): Linear(in_features=3136, out_features=512, bias=True)\n    (8): ReLU()\n    (9): Linear(in_features=512, out_features=6, bias=True)\n  )\n)"
     },
     "execution_count": 6,
     "metadata": {},
     "output_type": "execute_result"
    }
   ],
   "source": [
    "net.float()"
   ],
   "metadata": {
    "collapsed": false,
    "ExecuteTime": {
     "end_time": "2023-08-29T09:05:25.518265458Z",
     "start_time": "2023-08-29T09:05:25.495206464Z"
    }
   },
   "id": "67b729bb863008e4"
  },
  {
   "cell_type": "code",
   "execution_count": 7,
   "outputs": [
    {
     "ename": "NameError",
     "evalue": "name 'Agent' is not defined",
     "output_type": "error",
     "traceback": [
      "\u001B[0;31m---------------------------------------------------------------------------\u001B[0m",
      "\u001B[0;31mNameError\u001B[0m                                 Traceback (most recent call last)",
      "Cell \u001B[0;32mIn[7], line 1\u001B[0m\n\u001B[0;32m----> 1\u001B[0m agent \u001B[38;5;241m=\u001B[39m \u001B[43mAgent\u001B[49m()\n",
      "\u001B[0;31mNameError\u001B[0m: name 'Agent' is not defined"
     ]
    }
   ],
   "source": [
    "agent = Agent()"
   ],
   "metadata": {
    "collapsed": false,
    "ExecuteTime": {
     "end_time": "2023-08-29T09:06:13.057745573Z",
     "start_time": "2023-08-29T09:06:13.015582350Z"
    }
   },
   "id": "b82fb0d190deab38"
  },
  {
   "cell_type": "code",
   "execution_count": null,
   "outputs": [],
   "source": [],
   "metadata": {
    "collapsed": false
   },
   "id": "2fa97d7977f172c7"
  }
 ],
 "metadata": {
  "kernelspec": {
   "display_name": "Python 3",
   "language": "python",
   "name": "python3"
  },
  "language_info": {
   "codemirror_mode": {
    "name": "ipython",
    "version": 2
   },
   "file_extension": ".py",
   "mimetype": "text/x-python",
   "name": "python",
   "nbconvert_exporter": "python",
   "pygments_lexer": "ipython2",
   "version": "2.7.6"
  }
 },
 "nbformat": 4,
 "nbformat_minor": 5
}
