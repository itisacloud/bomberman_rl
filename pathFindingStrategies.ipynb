{
 "cells": [
  {
   "cell_type": "code",
   "execution_count": 14,
   "id": "initial_id",
   "metadata": {
    "collapsed": true,
    "ExecuteTime": {
     "end_time": "2023-08-27T15:38:12.128133453Z",
     "start_time": "2023-08-27T15:38:12.096826334Z"
    }
   },
   "outputs": [
    {
     "name": "stdout",
     "output_type": "stream",
     "text": [
      "Path to goal (2, 2): None\n",
      "Path to goal (2, 3): [[1, 1, 6, 10], [1, 0, 10, 13], [6, 10, 0, 15]]\n"
     ]
    }
   ],
   "source": [
    "import heapq\n",
    "\n",
    "def manhattan_distance(pos1, pos2):\n",
    "    return abs(pos1[0] - pos2[0]) + abs(pos1[1] - pos2[1])\n",
    "\n",
    "def a_star(matrix, start, goal):\n",
    "    directions = [(0, 1), (0, -1), (1, 0), (-1, 0)]\n",
    "    open_set = [(0, start)]  # Priority queue (cost, position)\n",
    "    closed_set = set()\n",
    "    path_matrix = [[None for _ in range(len(matrix[0]))] for _ in range(len(matrix))]\n",
    "    path_matrix[start[0]][start[1]] = []\n",
    "    \n",
    "    while open_set:\n",
    "        cost, current = heapq.heappop(open_set)\n",
    "        \n",
    "        if current == goal:\n",
    "            return path_matrix[current[0]][current[1]]\n",
    "        \n",
    "        closed_set.add(current)\n",
    "        \n",
    "        for dx, dy in directions:\n",
    "            new_x, new_y = current[0] + dx, current[1] + dy\n",
    "            new_pos = (new_x, new_y)\n",
    "            \n",
    "            if (\n",
    "                0 <= new_x < len(matrix) and \n",
    "                0 <= new_y < len(matrix[0]) and \n",
    "                matrix[new_x][new_y] == 1 and \n",
    "                new_pos not in closed_set\n",
    "            ):\n",
    "                new_cost = cost + 1\n",
    "                heapq.heappush(open_set, (new_cost + manhattan_distance(new_pos, goal), new_pos))\n",
    "                if path_matrix[new_x][new_y] is None or len(path_matrix[new_x][new_y]) > len(path_matrix[current[0]][current[1]]) + 1:\n",
    "                    path_matrix[new_x][new_y] = path_matrix[current[0]][current[1]] + [current]\n",
    "    \n",
    "    return None  # No path found\n",
    "\n",
    "# Example input with 1 as movable fields and 2 as unmovable fields\n",
    "matrix = [\n",
    "    [1, 1, 1, 1],\n",
    "    [1, 2, 1, 1],\n",
    "    [1, 1, 2, 1]\n",
    "]\n",
    "\n",
    "start = (0, 0)\n",
    "goals = [(2, 2), (2, 3)]\n",
    "\n",
    "# Find paths using A* and store them in separate matrices\n",
    "paths = []\n",
    "for goal in goals:\n",
    "    path = a_star(matrix, start, goal)\n",
    "    paths.append(path)\n",
    "\n",
    "\n",
    "for step in path + [goal]:\n",
    "    matrix[step[0]][step[1]] = 3\n",
    "    \n",
    "    \n",
    "\n",
    "# Print the path matrices\n",
    "for idx, path in enumerate(path_matrices):\n",
    "    print(f\"Path to goal {goals[idx]}:\", path)\n"
   ]
  },
  {
   "cell_type": "code",
   "execution_count": 17,
   "outputs": [
    {
     "data": {
      "text/plain": "<matplotlib.image.AxesImage at 0x7f545c914d30>"
     },
     "execution_count": 17,
     "metadata": {},
     "output_type": "execute_result"
    },
    {
     "data": {
      "text/plain": "<Figure size 640x480 with 1 Axes>",
      "image/png": "[encoded data removed]"
     },
     "metadata": {},
     "output_type": "display_data"
    }
   ],
   "source": [
    "import matplotlib.pyplot as plt\n",
    "plt.imshow(matrix)"
   ],
   "metadata": {
    "collapsed": false,
    "ExecuteTime": {
     "end_time": "2023-08-27T15:38:40.922134697Z",
     "start_time": "2023-08-27T15:38:40.145499082Z"
    }
   },
   "id": "59ad5c212e589692"
  },
  {
   "cell_type": "code",
   "execution_count": 5,
   "outputs": [
    {
     "name": "stdout",
     "output_type": "stream",
     "text": [
      "48 µs ± 2.17 µs per loop (mean ± std. dev. of 7 runs, 10,000 loops each)\n"
     ]
    }
   ],
   "source": [
    "%%timeit\n",
    "path_matrices = []\n",
    "for goal in goals:\n",
    "    path = a_star(matrix, start, goal)\n",
    "    path_matrices.append(path)\n",
    "    "
   ],
   "metadata": {
    "collapsed": false,
    "ExecuteTime": {
     "end_time": "2023-08-27T15:26:18.979311101Z",
     "start_time": "2023-08-27T15:26:14.780417757Z"
    }
   },
   "id": "2762c3c0db052e99"
  },
  {
   "cell_type": "markdown",
   "source": [],
   "metadata": {
    "collapsed": false
   },
   "id": "a639f63aede4d52b"
  }
 ],
 "metadata": {
  "kernelspec": {
   "display_name": "Python 3",
   "language": "python",
   "name": "python3"
  },
  "language_info": {
   "codemirror_mode": {
    "name": "ipython",
    "version": 2
   },
   "file_extension": ".py",
   "mimetype": "text/x-python",
   "name": "python",
   "nbconvert_exporter": "python",
   "pygments_lexer": "ipython2",
   "version": "2.7.6"
  }
 },
 "nbformat": 4,
 "nbformat_minor": 5
}
