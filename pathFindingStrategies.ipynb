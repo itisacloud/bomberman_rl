{
 "cells": [
  {
   "cell_type": "code",
   "execution_count": 55,
   "id": "initial_id",
   "metadata": {
    "collapsed": true,
    "ExecuteTime": {
     "end_time": "2023-09-08T20:42:38.381762420Z",
     "start_time": "2023-09-08T20:42:38.333789963Z"
    }
   },
   "outputs": [
    {
     "name": "stdout",
     "output_type": "stream",
     "text": [
      "[[(0, 0), (0, 1), (0, 2), (0, 3), (0, 4), (1, 4), (2, 4), (3, 4)], [(0, 0), (1, 0), (2, 0), (2, 1), (3, 1), (3, 2), (4, 2)], [(0, 0), (0, 1), (0, 2), (0, 3), (0, 4), (1, 4)]]\n",
      "[[3.         1.         0.66666667 0.5        0.4       ]\n",
      " [0.5        0.         0.         0.         0.33333333]\n",
      " [0.33333333 0.25       0.         0.         0.5218254 ]\n",
      " [0.         0.2        0.16666667 0.         0.125     ]\n",
      " [0.         0.         0.14285714 0.         0.        ]]\n",
      "IDW Matrix:\n",
      "[[3.         1.         0.66666667 0.5        0.4       ]\n",
      " [0.5        0.         0.         0.         0.33333333]\n",
      " [0.33333333 0.25       0.         0.         0.5218254 ]\n",
      " [0.         0.2        0.16666667 0.         0.125     ]\n",
      " [0.         0.         0.14285714 0.         0.        ]]\n"
     ]
    }
   ],
   "source": [
    "import heapq\n",
    "import numpy as np\n",
    "\n",
    "def manhattan_distance(pos1, pos2):\n",
    "    return abs(pos1[0] - pos2[0]) + abs(pos1[1] - pos2[1])\n",
    "\n",
    "def a_star(matrix, start, goal):\n",
    "    directions = [(0, 1), (0, -1), (1, 0), (-1, 0)]\n",
    "    open_set = [(0, start)]  # Priority queue (cost, position)\n",
    "    closed_set = set()\n",
    "    path_matrix = [[None for _ in range(len(matrix[0]))] for _ in range(len(matrix))]\n",
    "    path_matrix[start[0]][start[1]] = []\n",
    "    \n",
    "    while open_set:\n",
    "        cost, current = heapq.heappop(open_set)\n",
    "        \n",
    "        if current == goal:\n",
    "            return path_matrix[current[0]][current[1]]\n",
    "        \n",
    "        closed_set.add(current)\n",
    "        \n",
    "        for dx, dy in directions:\n",
    "            new_x, new_y = current[0] + dx, current[1] + dy\n",
    "            new_pos = (new_x, new_y)\n",
    "            \n",
    "            if (\n",
    "                0 <= new_x < len(matrix) and \n",
    "                0 <= new_y < len(matrix[0]) and \n",
    "                matrix[new_x][new_y] == 1 and \n",
    "                new_pos not in closed_set\n",
    "            ):\n",
    "                new_cost = cost + 1\n",
    "                heapq.heappush(open_set, (new_cost + manhattan_distance(new_pos, goal), new_pos))\n",
    "                if path_matrix[new_x][new_y] is None or len(path_matrix[new_x][new_y]) > len(path_matrix[current[0]][current[1]]) + 1:\n",
    "                    path_matrix[new_x][new_y] = path_matrix[current[0]][current[1]] + [current]\n",
    "    \n",
    "    return None  # No path found\n",
    "\n",
    "def paths_to_idw_matrix(field, paths):\n",
    "    matrix = np.zeros_like(field, dtype=float)\n",
    "    print(paths)\n",
    "    for path in paths:\n",
    "        try:\n",
    "            for i,step in enumerate(path + [goal]):\n",
    "                \n",
    "                matrix[step[0]][step[1]] += 1/(i+1)\n",
    "        except:\n",
    "            pass\n",
    "    print(matrix)\n",
    "    return matrix\n",
    "\n",
    "# Example input with 1 as movable fields and 2 as unmovable fields\n",
    "matrix = [\n",
    "    [1, 1, 1, 1, 1],\n",
    "    [1, 2, 1, 1, 1],\n",
    "    [1, 1, 2, 1, 1],\n",
    "    [1, 1, 1, 2, 1],\n",
    "    [1, 1, 1, 1, 1]\n",
    "]\n",
    "\n",
    "start = (0, 0)\n",
    "goals = [(4, 4), (4, 3), (2, 4)]\n",
    "\n",
    "# Find paths using A* and store them in separate matrices\n",
    "paths = []\n",
    "for goal in goals:\n",
    "    path = a_star(matrix, start, goal)\n",
    "    paths.append(path)\n",
    "\n",
    "# Print the path matrices\n",
    "\n",
    "# Example to print the IDW matrix\n",
    "idw_matrix = paths_to_idw_matrix(matrix, paths)\n",
    "print(\"IDW Matrix:\")\n",
    "print(idw_matrix)\n"
   ]
  },
  {
   "cell_type": "code",
   "execution_count": 45,
   "outputs": [
    {
     "name": "stdout",
     "output_type": "stream",
     "text": [
      "(0, 0)\n",
      "(0, 1)\n",
      "(0, 2)\n",
      "(0, 3)\n",
      "(0, 4)\n",
      "(1, 4)\n",
      "(2, 4)\n",
      "(3, 4)\n",
      "(2, 4)\n",
      "(0, 0)\n",
      "(1, 0)\n",
      "(2, 0)\n",
      "(2, 1)\n",
      "(3, 1)\n",
      "(3, 2)\n",
      "(4, 2)\n",
      "(2, 4)\n",
      "(0, 0)\n",
      "(0, 1)\n",
      "(0, 2)\n",
      "(0, 3)\n",
      "(0, 4)\n",
      "(1, 4)\n",
      "(2, 4)\n"
     ]
    },
    {
     "data": {
      "text/plain": "<matplotlib.image.AxesImage at 0x7f0ef85ea0e0>"
     },
     "execution_count": 45,
     "metadata": {},
     "output_type": "execute_result"
    },
    {
     "data": {
      "text/plain": "<Figure size 640x480 with 1 Axes>",
      "image/png": "[encoded data removed]"
     },
     "metadata": {},
     "output_type": "display_data"
    }
   ],
   "source": [
    "for path in paths:\n",
    "    for i,step in enumerate(path + [goal]):\n",
    "        print(step)\n",
    "        matrix[step[0]][step[1]] += 1/(i+1)\n",
    "\n",
    "import matplotlib.pyplot as plt\n",
    "plt.imshow(matrix)"
   ],
   "metadata": {
    "collapsed": false,
    "ExecuteTime": {
     "end_time": "2023-09-08T20:37:17.805967167Z",
     "start_time": "2023-09-08T20:37:17.560088648Z"
    }
   },
   "id": "59ad5c212e589692"
  },
  {
   "cell_type": "code",
   "execution_count": 32,
   "outputs": [
    {
     "name": "stdout",
     "output_type": "stream",
     "text": [
      "18 µs ± 425 ns per loop (mean ± std. dev. of 7 runs, 100,000 loops each)\n"
     ]
    }
   ],
   "source": [
    "%%timeit\n",
    "path_matrices = []\n",
    "for goal in goals:\n",
    "    path = a_star(matrix, start, goal)\n",
    "    path_matrices.append(path)\n",
    "    "
   ],
   "metadata": {
    "collapsed": false,
    "ExecuteTime": {
     "end_time": "2023-09-08T20:19:41.965258469Z",
     "start_time": "2023-09-08T20:19:27.111972415Z"
    }
   },
   "id": "2762c3c0db052e99"
  },
  {
   "cell_type": "markdown",
   "source": [],
   "metadata": {
    "collapsed": false
   },
   "id": "a639f63aede4d52b"
  }
 ],
 "metadata": {
  "kernelspec": {
   "display_name": "Python 3",
   "language": "python",
   "name": "python3"
  },
  "language_info": {
   "codemirror_mode": {
    "name": "ipython",
    "version": 2
   },
   "file_extension": ".py",
   "mimetype": "text/x-python",
   "name": "python",
   "nbconvert_exporter": "python",
   "pygments_lexer": "ipython2",
   "version": "2.7.6"
  }
 },
 "nbformat": 4,
 "nbformat_minor": 5
}
